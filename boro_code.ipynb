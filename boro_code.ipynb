{
 "cells": [
  {
   "cell_type": "code",
   "execution_count": null,
   "metadata": {},
   "outputs": [],
   "source": [
    "import numpy as np \n",
    "import pandas as pd\n",
    "from matplotlib import pyplot as plt\n",
    "import seaborn as sns"
   ]
  },
  {
   "cell_type": "code",
   "execution_count": null,
   "metadata": {},
   "outputs": [],
   "source": [
    "csvfile = input('Enter File Name: ') # when you run this block, type in the name of the Automated Traffic Volume dataset downloaded from NYC Opendata along with the file exension. \n",
    "# An example input would be: Automated_Traffic_Volume_Counts_csv_202207012125.csv\n",
    "\n",
    "traffic_volume = pd.read_csv(csvfile) # this will read the csv file \n",
    "#df.columns # all the columns will be printed out\n",
    "traffic_volume.head(8) # will prin the first 8 rows of the csv file"
   ]
  },
  {
   "cell_type": "code",
   "execution_count": null,
   "metadata": {},
   "outputs": [],
   "source": [
    "# because we want to link this file to LION map, we need to convert the boroughs to each respective borough id\n",
    "\n",
    "boro = traffic_volume['Boro'] # this will isolate the boro column\n",
    "# boro.head(len(boro.index)) \n",
    "boro_length = len(boro.index) # the total amount of rows will be assigned to the variable boro_length\n",
    "print(boro_length) # prints the total amount of rows\n",
    "\n",
    "index = 0 # we assign index to zero as the starting index for our loop\n",
    "boro_code = [] # intializes boro_code as an empty list\n",
    "\n",
    "# This loop will add the corresponding borough code to the empty list based on borough name\n",
    "for i in range (boro_length):\n",
    "    if boro[index] == \"Manhattan\":\n",
    "        boro_code.append(\"1\")\n",
    "    elif boro[index] == \"Bronx\":\n",
    "        boro_code.append(\"2\")\n",
    "    elif boro[index] == \"Brooklyn\":\n",
    "        boro_code.append(\"3\")\n",
    "    elif boro[index] == \"Queens\":\n",
    "        boro_code.append(\"4\")\n",
    "    elif boro[index] == \"Staten Island\":\n",
    "        boro_code.append(\"5\")\n",
    "    index += 1   \n"
   ]
  },
  {
   "cell_type": "code",
   "execution_count": null,
   "metadata": {},
   "outputs": [],
   "source": [
    "# Now that we have our list filled borough codes, we will now turn the list into a dataframe \n",
    "boro_code_df = pd.DataFrame(boro_code) # turns the list into a dataframe"
   ]
  },
  {
   "cell_type": "code",
   "execution_count": null,
   "metadata": {},
   "outputs": [],
   "source": [
    "# Here we will join the newly created column to the csv file we imported\n",
    "\n",
    "boro_code_df.rename(columns = {0 : 'Boro_Code'}, inplace = True) # renames the new column to Boro_Code\n",
    "boro_code_df = boro_code_df.join(traffic_volume) # This will join the our boro_code column to the main file\n",
    "boro_code_df # This will print the the first few rows of the newly joined dataframes"
   ]
  },
  {
   "cell_type": "code",
   "execution_count": null,
   "metadata": {},
   "outputs": [],
   "source": [
    "boro_code_df.to_csv('Automated_Traffic_Volume_Updated.csv') # This will save the newly joined dataframes and saves it to your current directory"
   ]
  }
 ],
 "metadata": {
  "kernelspec": {
   "display_name": "Python 3.9.13 64-bit (windows store)",
   "language": "python",
   "name": "python3"
  },
  "language_info": {
   "codemirror_mode": {
    "name": "ipython",
    "version": 3
   },
   "file_extension": ".py",
   "mimetype": "text/x-python",
   "name": "python",
   "nbconvert_exporter": "python",
   "pygments_lexer": "ipython3",
   "version": "3.9.13"
  },
  "orig_nbformat": 4,
  "vscode": {
   "interpreter": {
    "hash": "f9eef409e30f8d3f0c7ad2a07b1623eb12b39acc7a3e554507522ea7d67ae065"
   }
  }
 },
 "nbformat": 4,
 "nbformat_minor": 2
}
